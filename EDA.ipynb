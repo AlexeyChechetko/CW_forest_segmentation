{
 "cells": [
  {
   "metadata": {},
   "cell_type": "markdown",
   "source": "# EDA",
   "id": "3ee23a46a349e7cd"
  },
  {
   "metadata": {},
   "cell_type": "markdown",
   "source": "## Структура данных",
   "id": "3d1d66d23066e65d"
  },
  {
   "metadata": {
    "collapsed": true
   },
   "cell_type": "code",
   "source": [
    "from glob import glob\n",
    "\n",
    "pattern = 'data/**/*'\n",
    "files = glob(pattern, recursive=True)\n",
    "\n",
    "print(files)"
   ],
   "id": "initial_id",
   "outputs": [],
   "execution_count": null
  },
  {
   "metadata": {},
   "cell_type": "code",
   "outputs": [],
   "execution_count": null,
   "source": [
    "class EDA:\n",
    "    pass"
   ],
   "id": "e5ec7319403be0fc"
  },
  {
   "metadata": {},
   "cell_type": "code",
   "source": [
    "import rasterio\n",
    "import matplotlib.pyplot as plt\n",
    "import numpy as np\n",
    "\n",
    "path = 'data/TIF_original_image_with_mask&geodata.tif'\n",
    "\n",
    "with rasterio.open(path) as src:\n",
    "    r = src.read(1).astype(np.int16)\n",
    "    g = src.read(2).astype(np.int16)\n",
    "    b = src.read(3).astype(np.int16)\n",
    "\n",
    "    rgb = np.stack([r, g, b], axis=-1)\n",
    "\n",
    "    fig = plt.figure(figsize=(10, 15))\n",
    "\n",
    "    plt.imshow(rgb)\n",
    "    plt.tight_layout()\n",
    "    plt.axis('off')\n",
    "    plt.show()"
   ],
   "id": "dac753e26775fd7d",
   "outputs": [],
   "execution_count": null
  },
  {
   "metadata": {},
   "cell_type": "code",
   "source": [
    "import rasterio\n",
    "\n",
    "path = 'data/RGB_Polazna_cut.tif'\n",
    "\n",
    "with rasterio.open(path) as src:\n",
    "    print(\"✅ Основная информация:\")\n",
    "    print(f\"- Ширина: {src.width}\")\n",
    "    print(f\"- Высота: {src.height}\")\n",
    "    print(f\"- Количество каналов: {src.count}\")\n",
    "    print(f\"- Тип данных: {src.dtypes}\")  # список по каналам, например ['uint16']\n",
    "    print(f\"- CRS (система координат): {src.crs}\")\n",
    "    print(f\"- Transform (геопривязка): {src.transform}\")\n",
    "    print()\n",
    "\n",
    "    print(\"🧾 Полные метаданные (src.meta):\")\n",
    "    print(src.meta)\n"
   ],
   "id": "a9f23ce2ebdd2f84",
   "outputs": [],
   "execution_count": null
  },
  {
   "metadata": {},
   "cell_type": "code",
   "outputs": [],
   "execution_count": null,
   "source": "",
   "id": "f990b65560c733e3"
  }
 ],
 "metadata": {
  "kernelspec": {
   "display_name": "Python 3",
   "language": "python",
   "name": "python3"
  },
  "language_info": {
   "codemirror_mode": {
    "name": "ipython",
    "version": 2
   },
   "file_extension": ".py",
   "mimetype": "text/x-python",
   "name": "python",
   "nbconvert_exporter": "python",
   "pygments_lexer": "ipython2",
   "version": "2.7.6"
  }
 },
 "nbformat": 4,
 "nbformat_minor": 5
}
